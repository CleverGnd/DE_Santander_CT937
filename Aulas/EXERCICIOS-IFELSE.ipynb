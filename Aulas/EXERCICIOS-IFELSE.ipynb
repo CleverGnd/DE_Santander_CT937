{
 "cells": [
  {
   "cell_type": "markdown",
   "metadata": {},
   "source": [
    "1. Peça ao usuário para informar 4 lados consecutivos de um polígono. Veja se é um quadrado ou retâgulo, ou nenhum.\n",
    "Caso seja quadrado ou retângulo, imprima a área calculada."
   ]
  },
  {
   "cell_type": "code",
   "execution_count": null,
   "metadata": {},
   "outputs": [],
   "source": []
  },
  {
   "cell_type": "markdown",
   "metadata": {},
   "source": [
    "2. Pergunte ao usuário o valor de um produto, e se ele quer aumentar ou diminuir o preço.\n",
    "Pergunte ao usuário o quanto que ele gostaria de diminuir ou acrescentar, em porcentagem, e calcule o novo preço do produto para o usuário."
   ]
  },
  {
   "cell_type": "code",
   "execution_count": null,
   "metadata": {},
   "outputs": [],
   "source": []
  },
  {
   "cell_type": "markdown",
   "metadata": {},
   "source": [
    "3. Faça um programa que pergunte 4 notas de provas de um aluno, caso a média seja maior ou igual a 6 ele está aprovado, caso seja maior que 5, ele está de recuperação, pergunte a nota da prova de recuperação, caso a média da nota de recuperação com a média das provas seja maior que 6, ele está aprovado, se não reprovado.\n",
    "Caso a média das 4 provas seja menor ou igual a 5 ele está reprovado direto."
   ]
  },
  {
   "cell_type": "code",
   "execution_count": null,
   "metadata": {},
   "outputs": [],
   "source": []
  },
  {
   "cell_type": "markdown",
   "metadata": {},
   "source": [
    "4. Pergunte ao usuário que horas são, somente número inteiro, e retorne \"Bom dia!\", caso seja entre 5 horas e 11 horas da manhã, \"Boa tarde!\", caso seja entre 12 horas e 18 horas da tarde, e \"Boa noite!\", caso seja entre 19 horas e 4 horas da manhã."
   ]
  },
  {
   "cell_type": "code",
   "execution_count": null,
   "metadata": {},
   "outputs": [],
   "source": []
  },
  {
   "cell_type": "markdown",
   "metadata": {},
   "source": [
    "5. Peça o usuário para digitar um número, informe se o número é divisivel por 5, caso seja, informe se o número é par ou impar."
   ]
  },
  {
   "cell_type": "code",
   "execution_count": null,
   "metadata": {},
   "outputs": [],
   "source": []
  }
 ],
 "metadata": {
  "kernelspec": {
   "display_name": "Python 3.9.12 ('base')",
   "language": "python",
   "name": "python3"
  },
  "language_info": {
   "codemirror_mode": {
    "name": "ipython",
    "version": 3
   },
   "file_extension": ".py",
   "mimetype": "text/x-python",
   "name": "python",
   "nbconvert_exporter": "python",
   "pygments_lexer": "ipython3",
   "version": "3.9.12"
  },
  "orig_nbformat": 4,
  "vscode": {
   "interpreter": {
    "hash": "7f52069df51f55474cef70a04f6de2c8e83f851022777c4983d9d0bb63ea6184"
   }
  }
 },
 "nbformat": 4,
 "nbformat_minor": 2
}
