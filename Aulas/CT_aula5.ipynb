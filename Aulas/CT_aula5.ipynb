{
 "cells": [
  {
   "cell_type": "markdown",
   "metadata": {},
   "source": [
    "# Funções\n",
    "## Tópicos da aula\n",
    "- Intuição das funções\n",
    "- Parâmetros\n",
    "- Retorno\n",
    "- Bônus: Recursão"
   ]
  },
  {
   "cell_type": "markdown",
   "metadata": {},
   "source": [
    "Criar um programa que calcule o volume de um cilindro dado o raio r e a altura h."
   ]
  },
  {
   "cell_type": "markdown",
   "metadata": {},
   "source": [
    "Volume de um cilindro\n",
    "\n",
    "<img src= 'https://neurochispas.com.br/wp-content/uploads/2021/08/formula-para-o-volume-do-cilindro.png' width=\"200\">"
   ]
  },
  {
   "cell_type": "code",
   "execution_count": 6,
   "metadata": {},
   "outputs": [
    {
     "name": "stdout",
     "output_type": "stream",
     "text": [
      "A altura é 10.0 e o raio é 2.0\n",
      "O volume do cilindro é 125.60000000000001\n"
     ]
    }
   ],
   "source": [
    "h = float(input('Digite a altura: '))\n",
    "r = float(input('Digite o raio: '))\n",
    "\n",
    "volume = 3.14 * (r ** 2) * h\n",
    "\n",
    "print(f'A altura é {h} e o raio é {r}')\n",
    "print(f'O volume do cilindro é {volume}')"
   ]
  },
  {
   "cell_type": "markdown",
   "metadata": {},
   "source": [
    "Calcular a área do trapézio dado os valores necessários.\n",
    "\n",
    "<img src='https://www.matematica.pt/images/faq/calcular-area-trapezio.png' width='300'>"
   ]
  },
  {
   "cell_type": "code",
   "execution_count": 4,
   "metadata": {},
   "outputs": [
    {
     "name": "stdout",
     "output_type": "stream",
     "text": [
      "Area é: 30.0\n"
     ]
    }
   ],
   "source": [
    "h = float(input('Digite a altura do trapézio: '))\n",
    "teste = float(input())\n",
    "b = float(input('Digite a base inferior: '))\n",
    "B = float(input('Digite a base superior: '))\n",
    "\n",
    "area = ((B+b)*h)/2\n",
    "\n",
    "print('Area é:', area)\n"
   ]
  },
  {
   "cell_type": "markdown",
   "metadata": {},
   "source": [
    "E se quisermos utilizar diversas vezes o mesmo programa?\n",
    "\n",
    "Para isso podemos usar as **funções**\n",
    "\n",
    "Para definir uma função utilizamos a palavra `def`"
   ]
  },
  {
   "cell_type": "code",
   "execution_count": null,
   "metadata": {},
   "outputs": [],
   "source": [
    "def nome_funcao():\n",
    "    to do"
   ]
  },
  {
   "cell_type": "code",
   "execution_count": 7,
   "metadata": {},
   "outputs": [],
   "source": [
    "# def para definir uma função\n",
    "# o nome da função é imprime_linhas\n",
    "# () dentro destes parênteses estão os parâmetros que eu espero que sejam passados para a minha função\n",
    "# termina a linha com :\n",
    "\n",
    "def imprime_linhas():\n",
    "    print('linha1')\n",
    "    print('linha2')\n",
    "    print('linha3')"
   ]
  },
  {
   "cell_type": "markdown",
   "metadata": {},
   "source": [
    "E como eu faço para chamar a função?"
   ]
  },
  {
   "cell_type": "code",
   "execution_count": 8,
   "metadata": {},
   "outputs": [
    {
     "name": "stdout",
     "output_type": "stream",
     "text": [
      "linha1\n",
      "linha2\n",
      "linha3\n"
     ]
    }
   ],
   "source": [
    "# chamar pelo nome da função -> para executar a função\n",
    "\n",
    "imprime_linhas()"
   ]
  },
  {
   "cell_type": "code",
   "execution_count": 9,
   "metadata": {},
   "outputs": [],
   "source": [
    "# E no nosso exemplo do volume de um cilindro?\n",
    "\n",
    "def volume_cilindro():\n",
    "    h = float(input('Digite a altura: '))\n",
    "    r = float(input('Digite o raio: '))\n",
    "\n",
    "    volume = 3.14 * (r ** 2) * h\n",
    "\n",
    "    print(f'A altura é {h} e o raio é {r}')\n",
    "    print(f'O volume do cilindro é {volume}')\n",
    "    "
   ]
  },
  {
   "cell_type": "code",
   "execution_count": 10,
   "metadata": {},
   "outputs": [
    {
     "name": "stdout",
     "output_type": "stream",
     "text": [
      "A altura é 10.0 e o raio é 2.0\n",
      "O volume do cilindro é 125.60000000000001\n"
     ]
    }
   ],
   "source": [
    "volume_cilindro()"
   ]
  },
  {
   "cell_type": "markdown",
   "metadata": {},
   "source": [
    "## Parâmetros da função"
   ]
  },
  {
   "cell_type": "code",
   "execution_count": 11,
   "metadata": {},
   "outputs": [],
   "source": [
    "# Os parênteses servem para definirmos parâmetros da função\n",
    "# Parâmetros são valores que a função pode querer utilizar\n",
    "# Diz-se que o parâmetro é recebido pela função\n",
    "\n",
    "def bom_dia(nome):\n",
    "    print(f'Bom dia {nome}')"
   ]
  },
  {
   "cell_type": "code",
   "execution_count": 12,
   "metadata": {},
   "outputs": [
    {
     "name": "stdout",
     "output_type": "stream",
     "text": [
      "Bom dia Thiago\n"
     ]
    }
   ],
   "source": [
    "bom_dia('Thiago')"
   ]
  },
  {
   "cell_type": "code",
   "execution_count": 13,
   "metadata": {},
   "outputs": [
    {
     "name": "stdout",
     "output_type": "stream",
     "text": [
      "Bom dia Lucas\n"
     ]
    }
   ],
   "source": [
    "nome_usuario = input('Digite seu nome:')\n",
    "\n",
    "bom_dia(nome_usuario)"
   ]
  },
  {
   "cell_type": "code",
   "execution_count": 14,
   "metadata": {},
   "outputs": [],
   "source": [
    "# podemos solicitar mais de um parâmetro\n",
    "\n",
    "def cadastro(nome, idade, cidade):\n",
    "    print(nome, 'tem', idade, \"anos e mora em\", cidade)"
   ]
  },
  {
   "cell_type": "code",
   "execution_count": 20,
   "metadata": {},
   "outputs": [
    {
     "name": "stdout",
     "output_type": "stream",
     "text": [
      "Thiago tem 26 anos e mora em Curitiba\n"
     ]
    }
   ],
   "source": [
    "cadastro('Thiago', 26, 'Curitiba')"
   ]
  },
  {
   "cell_type": "code",
   "execution_count": 25,
   "metadata": {},
   "outputs": [
    {
     "name": "stdout",
     "output_type": "stream",
     "text": [
      "Thiago tem 26 anos e mora em Curitiba\n",
      "Thiago tem 26 anos e mora em Curitiba\n",
      "Thiago tem 26 anos e mora em None\n"
     ]
    }
   ],
   "source": [
    "cadastro('Thiago', 26, 'Curitiba') # passa apenas os parâmetros: TEM QUE PASSAR NA ORDEM\n",
    "\n",
    "cadastro(idade=26, cidade='Curitiba', nome='Thiago') # posso alterar a ordem desde que deixe explícito qual é o parâmetro\n",
    "\n",
    "cadastro(nome='Thiago', idade = 26, cidade = None) # podemos ainda passar um dos parâmetros como vazio"
   ]
  },
  {
   "cell_type": "code",
   "execution_count": null,
   "metadata": {},
   "outputs": [],
   "source": []
  },
  {
   "cell_type": "code",
   "execution_count": null,
   "metadata": {},
   "outputs": [],
   "source": []
  },
  {
   "cell_type": "code",
   "execution_count": null,
   "metadata": {},
   "outputs": [],
   "source": []
  },
  {
   "cell_type": "code",
   "execution_count": null,
   "metadata": {},
   "outputs": [],
   "source": []
  },
  {
   "cell_type": "code",
   "execution_count": null,
   "metadata": {},
   "outputs": [],
   "source": []
  }
 ],
 "metadata": {
  "kernelspec": {
   "display_name": "Python 3.9.7 ('base')",
   "language": "python",
   "name": "python3"
  },
  "language_info": {
   "codemirror_mode": {
    "name": "ipython",
    "version": 3
   },
   "file_extension": ".py",
   "mimetype": "text/x-python",
   "name": "python",
   "nbconvert_exporter": "python",
   "pygments_lexer": "ipython3",
   "version": "3.9.7"
  },
  "orig_nbformat": 4,
  "vscode": {
   "interpreter": {
    "hash": "5c66de18c091297d67c9a295278ca9503b5163a383fa85591c3cdb6daec33020"
   }
  }
 },
 "nbformat": 4,
 "nbformat_minor": 2
}
