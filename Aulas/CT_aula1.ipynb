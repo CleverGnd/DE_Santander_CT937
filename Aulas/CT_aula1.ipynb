{
 "cells": [
  {
   "cell_type": "markdown",
   "id": "9fbd531b",
   "metadata": {},
   "source": [
    "# Alguns recados\n",
    "- Horários (início e intervalo)\n",
    "- Presença\n",
    "- Câmera\n",
    "- Vagas\n",
    "- Cronograma de aulas"
   ]
  },
  {
   "cell_type": "markdown",
   "id": "700cf6df",
   "metadata": {},
   "source": [
    "# IDE\n",
    "- Visual Studio Code - Extensão Jupyter\n",
    "- Colab google - https://colab.research.google.com/\n",
    "- Deep note - https://deepnote.com/\n",
    "- JupyterLite - https://jupyter.org/try\n",
    "- Kaggle Kernels - https://www.kaggle.com/\n",
    "\n",
    "- Diversas opções:\n",
    "  - https://cocalc.com/features/jupyter-notebook\n",
    "  - https://www.codingrooms.com/compiler/jupyter-notebook\n",
    "  - https://mybinder.org/"
   ]
  },
  {
   "cell_type": "markdown",
   "id": "46cc1557",
   "metadata": {},
   "source": [
    "## Tópicos da aula\n",
    "\n",
    " - Variáveis\n",
    " - Tipos básicos\n",
    " - Entradas/Saídas\n",
    " - Operadores Algébricos\n",
    " - Operadores de comparação"
   ]
  },
  {
   "cell_type": "markdown",
   "id": "1855565e",
   "metadata": {},
   "source": [
    "Notebook está no class: https://s3-sa-east-1.amazonaws.com/lcpi/776fc419-af6e-432a-a269-3a48f279b7b2.ipynb"
   ]
  },
  {
   "cell_type": "markdown",
   "id": "73c6063a",
   "metadata": {},
   "source": [
    "## Variáveis\n",
    "Variável é o nome dado ao tipo de conteúdo que pode apresentar diferentes valores enquanto o sistema está em execução. Tudo dependerá do comando do usuário e o tipo de operação que é realizado.  \n",
    "Imagine que você conhece uma nova pessoa. A variável seria o lugar no seu cérebro no qual você guarda, por exemplo, o nome desta pessoa, ou seja, é alocado um espaço para armazenar esta informação e posteriormente é passado o valor referente aquele dado.\n",
    "\n",
    "```\n",
    "nome = \"Renata\"\n",
    "```"
   ]
  },
  {
   "cell_type": "markdown",
   "id": "41b0fe06",
   "metadata": {},
   "source": [
    "## Tipos básicos\n",
    "\n",
    "Podemos ter informações relacionadas às outras pessoas como nome, idade e salário. Cada uma delas possui o que chamamos de tipos de variável. Os tipos de dados são os seguintes:"
   ]
  },
  {
   "cell_type": "code",
   "execution_count": null,
   "id": "87037bf8",
   "metadata": {},
   "outputs": [],
   "source": [
    "# Esta é uma forma de comentar o código. Toda esta informação não será processada\n",
    "# Podemos passar variáveis de texto (str) com aspas duplas\n",
    "nome = \"Renata\"\n",
    "type(nome)"
   ]
  },
  {
   "cell_type": "code",
   "execution_count": null,
   "id": "74c191c8",
   "metadata": {},
   "outputs": [],
   "source": [
    "# Ou aspas simples\n",
    "nome = 'Bruno'\n",
    "type(nome)"
   ]
  },
  {
   "cell_type": "code",
   "execution_count": null,
   "id": "175ac6dc",
   "metadata": {},
   "outputs": [],
   "source": [
    "idade = 29\n",
    "type(idade)"
   ]
  },
  {
   "cell_type": "code",
   "execution_count": null,
   "id": "ca5d746d",
   "metadata": {},
   "outputs": [],
   "source": [
    "salario = 1000.00\n",
    "type(salario)"
   ]
  },
  {
   "cell_type": "code",
   "execution_count": null,
   "id": "f2d8d93c",
   "metadata": {},
   "outputs": [],
   "source": [
    "certificado = True\n",
    "type(certificado)"
   ]
  },
  {
   "cell_type": "markdown",
   "id": "a1fcbea2",
   "metadata": {},
   "source": [
    "## Entradas\n",
    "\n",
    "Para solicitarmos entradas de informações a serem fornecidas pelo usuário podemos utilizar a função input. Com ela você poderá (opcional) passar uma mensagem instrutiva ao usuário do que deseja que ele insira.  \n",
    "No exemplo abaixo utilizaremos o input."
   ]
  },
  {
   "cell_type": "code",
   "execution_count": null,
   "id": "41987074",
   "metadata": {},
   "outputs": [],
   "source": [
    "input()"
   ]
  },
  {
   "cell_type": "markdown",
   "id": "244e1407",
   "metadata": {},
   "source": [
    "**Intuição**  \n",
    "Veja que ele funciona, porém sem uma mensagem de qual informação é solicitada não é possível identificar o que se deve passar ao programa."
   ]
  },
  {
   "cell_type": "code",
   "execution_count": null,
   "id": "3ebce9a5",
   "metadata": {},
   "outputs": [],
   "source": [
    "input('Insira sua idade: ')"
   ]
  },
  {
   "cell_type": "markdown",
   "id": "0f74f098",
   "metadata": {},
   "source": [
    "**Variável**  \n",
    "Podemos guardar o valor passado pelo usuário numa variável"
   ]
  },
  {
   "cell_type": "code",
   "execution_count": null,
   "id": "2ff45148",
   "metadata": {},
   "outputs": [],
   "source": [
    "idade = input('Insira sua idade: ')"
   ]
  },
  {
   "cell_type": "markdown",
   "id": "357d85ad",
   "metadata": {},
   "source": [
    "Repare nas aspas que saem quando utilizamos apenas a função input. Isso quer dizer que este valor capturado pelo programa é uma string, independente do que o usuário insira."
   ]
  },
  {
   "cell_type": "code",
   "execution_count": null,
   "id": "c83c5dab",
   "metadata": {},
   "outputs": [],
   "source": [
    "type(idade)"
   ]
  },
  {
   "cell_type": "markdown",
   "id": "a8304431",
   "metadata": {},
   "source": [
    "**Convertendo o tipo de dado**  \n",
    "Neste caso é interessante que a idade seja um número, visto que em geral o utilizamos para realizar contas, por exemplo. Para converter este valor para um inteiro, podemos fazer da seguinte forma:"
   ]
  },
  {
   "cell_type": "code",
   "execution_count": null,
   "id": "f34c305d",
   "metadata": {},
   "outputs": [],
   "source": [
    "int(idade)"
   ]
  },
  {
   "cell_type": "markdown",
   "id": "17496823",
   "metadata": {},
   "source": [
    "E para simplificar ainda mais é comum que já realizemos a conversão da variável logo na chamada do input."
   ]
  },
  {
   "cell_type": "code",
   "execution_count": null,
   "id": "d2c4e3b2",
   "metadata": {},
   "outputs": [],
   "source": [
    "idade = int(input('Insira sua idade: '))\n",
    "# Para valores do tipo ponto flutuante, ou seja, numéricos com valores decimais, utilizamos o float"
   ]
  },
  {
   "cell_type": "code",
   "execution_count": null,
   "id": "1e3dfb3b",
   "metadata": {},
   "outputs": [],
   "source": [
    "type(idade)"
   ]
  },
  {
   "cell_type": "markdown",
   "id": "90d69dd0",
   "metadata": {},
   "source": [
    "## Saídas\n",
    "\n",
    "Em diversas situações desejamos imprimir na tela o resultado de alguma operação que realizamos ou simplesmente emitirmos uma mensagem, para estas situações utilizamos o print."
   ]
  },
  {
   "cell_type": "code",
   "execution_count": null,
   "id": "ef8a8269",
   "metadata": {},
   "outputs": [],
   "source": [
    "print('Você pode utilizar o print para imprimir na tela o que você quiser')"
   ]
  },
  {
   "cell_type": "code",
   "execution_count": null,
   "id": "4496e5c5",
   "metadata": {},
   "outputs": [],
   "source": [
    "print(\"Aspas duplas também funcionam\")"
   ]
  },
  {
   "cell_type": "code",
   "execution_count": null,
   "id": "219f320d",
   "metadata": {},
   "outputs": [],
   "source": [
    "print('Podemos pular linha \\ncom este símbolo')"
   ]
  },
  {
   "cell_type": "code",
   "execution_count": null,
   "id": "efe7ded9",
   "metadata": {},
   "outputs": [],
   "source": [
    "print('\\tÉ possível utilizar a tabulaço também')"
   ]
  },
  {
   "cell_type": "code",
   "execution_count": null,
   "id": "10426484",
   "metadata": {},
   "outputs": [],
   "source": [
    "print('Também podemos')\n",
    "print('usar o print')\n",
    "print('várias vezes na mesma célula')"
   ]
  },
  {
   "cell_type": "markdown",
   "id": "1ef1a7de",
   "metadata": {},
   "source": [
    "**Mais de um argumento**  \n",
    "Para imprimir mais de uma informação, o print permite inserir quantos argumentos forem necessários, desde que separados por vírgula. Veja o exemplo:"
   ]
  },
  {
   "cell_type": "code",
   "execution_count": null,
   "id": "6db69189",
   "metadata": {},
   "outputs": [],
   "source": [
    "print('Olá', 'eu sou Bruno', 'muito prazer')"
   ]
  },
  {
   "cell_type": "markdown",
   "id": "1571b13e",
   "metadata": {},
   "source": [
    "**Print de variáveis**  \n",
    "Também é possível imprimir variáveis de forma simples, basta passar o nome dado para a variável dentro dos parênteses."
   ]
  },
  {
   "cell_type": "code",
   "execution_count": null,
   "id": "d1de04d2",
   "metadata": {},
   "outputs": [],
   "source": [
    "print(idade)"
   ]
  },
  {
   "cell_type": "markdown",
   "id": "b4dd8bd0",
   "metadata": {},
   "source": [
    "E se for necessário imprimir a mensagem 'Olá, eu sou Bruno Issamo\", de forma que o nome e o sobrenome sejam provenientes de variáveis nome e sobrenome."
   ]
  },
  {
   "cell_type": "code",
   "execution_count": null,
   "id": "d59344c2",
   "metadata": {},
   "outputs": [],
   "source": [
    "nome = 'Bruno'\n",
    "sobrenome = 'Issamo'"
   ]
  },
  {
   "cell_type": "markdown",
   "id": "5101f9cb",
   "metadata": {},
   "source": [
    "**Print com f string**  \n",
    "Outra forma de utilizarmos o print com variáveis é por meio do que chamamos de f string."
   ]
  },
  {
   "cell_type": "code",
   "execution_count": null,
   "id": "948c0517",
   "metadata": {},
   "outputs": [],
   "source": [
    "print(f'Eu tenho {idade} anos')"
   ]
  },
  {
   "cell_type": "markdown",
   "id": "b86dca2d",
   "metadata": {},
   "source": [
    "**Bora praticar!**  \n",
    "Escreva um programa que receba seu nome, sua idade e hobby e escreva uma única sentença que seja, por exemplo, \"Meu nome é Bruno, tenho 29 anos e meu hobby é praticar esportes\" "
   ]
  },
  {
   "cell_type": "code",
   "execution_count": null,
   "id": "94e9783f",
   "metadata": {},
   "outputs": [],
   "source": []
  },
  {
   "cell_type": "markdown",
   "id": "feea987d",
   "metadata": {},
   "source": [
    "## Operadores Algébricos\n",
    "\n",
    "Rotineiramente nos deparamos com a necessidade de realizarmos cálculos, para isso podemos utilizar os operadores algébricos como conhecemos na matemática tradicional."
   ]
  },
  {
   "cell_type": "markdown",
   "id": "ae611470",
   "metadata": {},
   "source": [
    "**Soma de dois valores**"
   ]
  },
  {
   "cell_type": "code",
   "execution_count": null,
   "id": "4657ef96",
   "metadata": {},
   "outputs": [],
   "source": [
    "print(2 + 2)"
   ]
  },
  {
   "cell_type": "code",
   "execution_count": null,
   "id": "5a525336",
   "metadata": {},
   "outputs": [],
   "source": [
    "print(8 - 5)"
   ]
  },
  {
   "cell_type": "markdown",
   "id": "763aabb9",
   "metadata": {},
   "source": [
    "Resumindo:"
   ]
  },
  {
   "cell_type": "markdown",
   "id": "3742cf67",
   "metadata": {},
   "source": [
    "| Símbolo | Operação        |\n",
    "|---------|-----------------|\n",
    "|    +    | soma            |\n",
    "|    -    | subtração       |\n",
    "|    *    | multiplicação   |\n",
    "|    /    | divisão         |\n",
    "|    //   | divisão inteira |\n",
    "|    %    | resto           |\n",
    "|    **   | potência        |"
   ]
  },
  {
   "cell_type": "markdown",
   "id": "a0f058e7",
   "metadata": {},
   "source": [
    "**Utilizando variáveis**"
   ]
  },
  {
   "cell_type": "code",
   "execution_count": null,
   "id": "d9afbe5f",
   "metadata": {},
   "outputs": [],
   "source": [
    "valor_01 = 10\n",
    "valor_02 = 15\n",
    "\n",
    "print(valor_01 + valor_02)"
   ]
  },
  {
   "cell_type": "markdown",
   "id": "22af0c46",
   "metadata": {},
   "source": [
    "**Bora praticar!**  \n",
    "Com tudo que vimos até o momento faça um programa que solicite ao usuário que insira seu ano de nascimento. Desconsiderando o mês do ano de nascimento, emita uma mensagem dizendo quantos anos ele possui."
   ]
  },
  {
   "cell_type": "code",
   "execution_count": null,
   "id": "d8165666",
   "metadata": {},
   "outputs": [],
   "source": []
  },
  {
   "cell_type": "markdown",
   "id": "cceecb74",
   "metadata": {},
   "source": [
    "## Operadores de Comparação  \n",
    "Os operadores de comparação são aqueles que possuem o objetivo de analisar os valores de uma expressão e retornar um valor booleano, ou seja, verdadeiro (1) ou falso (0)."
   ]
  },
  {
   "cell_type": "code",
   "execution_count": null,
   "id": "686664b0",
   "metadata": {},
   "outputs": [],
   "source": [
    "print(3 > 2)"
   ]
  },
  {
   "cell_type": "code",
   "execution_count": null,
   "id": "901845cb",
   "metadata": {},
   "outputs": [],
   "source": [
    "print(2 > 3)"
   ]
  },
  {
   "cell_type": "code",
   "execution_count": null,
   "id": "fa887873",
   "metadata": {},
   "outputs": [],
   "source": [
    "print(2 == 3)"
   ]
  },
  {
   "cell_type": "code",
   "execution_count": null,
   "id": "ee8446df",
   "metadata": {},
   "outputs": [],
   "source": [
    "print(2 == 2)"
   ]
  },
  {
   "cell_type": "markdown",
   "id": "7035e16d",
   "metadata": {},
   "source": [
    "**Bora praticar!**  \n",
    "Imagine que você está implementando um sistema para verificar se os alunos de uma turma estudantil passaram na disciplina ou não. Para isso solicite que o usuário insira as notas das 4 provas realizadas por um estudante e calcule a média. Após isso, emita uma resposta booleana (True ou False) se o estudante passou na disciplina pensando que a média mínima para aprovação é que seja pelo menos 5."
   ]
  },
  {
   "cell_type": "code",
   "execution_count": null,
   "id": "52d8a4e8",
   "metadata": {
    "scrolled": true
   },
   "outputs": [],
   "source": []
  },
  {
   "cell_type": "markdown",
   "id": "87f38384",
   "metadata": {},
   "source": [
    "Crie um algoritmo que calcule o IMC (índice de massa corporal). O IMC é calculado com a formula PESO/(ALTURA ^ 2). Para isso, coloque as informações nas variáveis e ao final apresente o resultado como no exemplo: \"O IMC é 18\""
   ]
  },
  {
   "cell_type": "code",
   "execution_count": null,
   "id": "f82ed11d",
   "metadata": {},
   "outputs": [],
   "source": []
  },
  {
   "cell_type": "markdown",
   "id": "6c0555dc",
   "metadata": {},
   "source": [
    "Escreva um algoritmo que calcule (x + y) * (x + y). Os valores de x e y devem ser inseridos pelo usuário"
   ]
  },
  {
   "cell_type": "code",
   "execution_count": null,
   "id": "ce94fc00",
   "metadata": {},
   "outputs": [],
   "source": []
  }
 ],
 "metadata": {
  "kernelspec": {
   "display_name": "Python 3.9.7 ('base')",
   "language": "python",
   "name": "python3"
  },
  "language_info": {
   "codemirror_mode": {
    "name": "ipython",
    "version": 3
   },
   "file_extension": ".py",
   "mimetype": "text/x-python",
   "name": "python",
   "nbconvert_exporter": "python",
   "pygments_lexer": "ipython3",
   "version": "3.9.7"
  },
  "vscode": {
   "interpreter": {
    "hash": "5c66de18c091297d67c9a295278ca9503b5163a383fa85591c3cdb6daec33020"
   }
  }
 },
 "nbformat": 4,
 "nbformat_minor": 5
}
